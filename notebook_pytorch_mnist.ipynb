{
  "nbformat": 4,
  "nbformat_minor": 0,
  "metadata": {
    "colab": {
      "provenance": [],
      "gpuType": "T4"
    },
    "kernelspec": {
      "name": "python3",
      "display_name": "Python 3"
    },
    "language_info": {
      "name": "python"
    },
    "accelerator": "GPU"
  },
  "cells": [
    {
      "cell_type": "markdown",
      "source": [
        "# Classification problem description. MNIST\n",
        "\n",
        "Handwritten Digit Classification using PyTorch and the MNIST Dataset"
      ],
      "metadata": {
        "id": "fBejL1jMWtfL"
      }
    },
    {
      "cell_type": "markdown",
      "source": [
        "# 1. Loading dataset and analizing dataset."
      ],
      "metadata": {
        "id": "fClrLR5fKZk4"
      }
    },
    {
      "cell_type": "code",
      "execution_count": 4,
      "metadata": {
        "id": "wYYZVi7YWju-"
      },
      "outputs": [],
      "source": [
        "import torch\n",
        "from torchvision import datasets # dataset\n",
        "from torchvision.transforms import ToTensor # used to convert data to tensors.\n",
        "import matplotlib.pyplot as plt"
      ]
    },
    {
      "cell_type": "code",
      "source": [
        "#importing dataset\n",
        "data_mnist = datasets.MNIST(\n",
        "    root = \"data\",\n",
        "    train = True,\n",
        "    download = True,\n",
        "    transform = ToTensor() #Convert images to tensors.\n",
        ")"
      ],
      "metadata": {
        "id": "_gZSZCxqX4Nd"
      },
      "execution_count": 5,
      "outputs": []
    },
    {
      "cell_type": "code",
      "source": [
        "# view dataset.\n",
        "data_mnist"
      ],
      "metadata": {
        "id": "7QJBm3i1Z5RX",
        "outputId": "32ac4afb-e324-42f6-9329-f1f5e20d4928",
        "colab": {
          "base_uri": "https://localhost:8080/"
        }
      },
      "execution_count": 7,
      "outputs": [
        {
          "output_type": "execute_result",
          "data": {
            "text/plain": [
              "Dataset MNIST\n",
              "    Number of datapoints: 60000\n",
              "    Root location: data\n",
              "    Split: Train\n",
              "    StandardTransform\n",
              "Transform: ToTensor()"
            ]
          },
          "metadata": {},
          "execution_count": 7
        }
      ]
    },
    {
      "cell_type": "code",
      "source": [
        "# Exploring random images on the dataset on a grid 3 x 3.\n",
        "figure = plt.figure(figsize=(6, 6))\n",
        "cols, rows = 3, 3\n",
        "for i in range(1, cols * rows + 1):\n",
        "  sample_idx = torch.randint(len(data_mnist), size=(1,)).item()\n",
        "  img, label = data_mnist[sample_idx]\n",
        "  figure.add_subplot(rows, cols, i)\n",
        "  plt.title(label)\n",
        "  plt.axis(\"off\")\n",
        "  plt.imshow(img.squeeze(), cmap=\"gray\")\n",
        "plt.show()\n"
      ],
      "metadata": {
        "id": "Wtq5JEbGZ8tH",
        "colab": {
          "base_uri": "https://localhost:8080/",
          "height": 521
        },
        "outputId": "ce00f219-4bed-4634-a8ca-dccc1f5406f3"
      },
      "execution_count": 9,
      "outputs": [
        {
          "output_type": "display_data",
          "data": {
            "text/plain": [
              "<Figure size 600x600 with 9 Axes>"
            ],
            "image/png": "[encoded data removed]"
          },
          "metadata": {}
        }
      ]
    },
    {
      "cell_type": "code",
      "source": [
        "print(f'Image data type: {type(img)}')\n",
        "print(f'Image Shape {img.shape}')\n",
        "print(f'Min Max: {img.min()}, {img.max()}')\n",
        "print(f'Label: {type(label)} {label}')"
      ],
      "metadata": {
        "colab": {
          "base_uri": "https://localhost:8080/"
        },
        "id": "RkzweE7a2DsT",
        "outputId": "d457aa0d-049b-466a-b665-2146265f5ab5"
      },
      "execution_count": 10,
      "outputs": [
        {
          "output_type": "stream",
          "name": "stdout",
          "text": [
            "Image data type: <class 'torch.Tensor'>\n",
            "Image Shape torch.Size([1, 28, 28])\n",
            "Min Max: 0.0, 1.0\n",
            "Label: <class 'int'> 7\n"
          ]
        }
      ]
    },
    {
      "cell_type": "code",
      "source": [
        "# Initializing seed\n",
        "torch.manual_seed(42)"
      ],
      "metadata": {
        "colab": {
          "base_uri": "https://localhost:8080/"
        },
        "id": "KdBd_XjA2y5O",
        "outputId": "4215a7bd-a552-4648-84dd-bbc8651d63f7"
      },
      "execution_count": 11,
      "outputs": [
        {
          "output_type": "execute_result",
          "data": {
            "text/plain": [
              "<torch._C.Generator at 0x7a70c07a44d0>"
            ]
          },
          "metadata": {},
          "execution_count": 11
        }
      ]
    },
    {
      "cell_type": "code",
      "source": [
        "# we divide the data on three different sets for training, validation and test.\n",
        "train, val, test = torch.utils.data.random_split(\n",
        "    data_mnist, [0.8, 0.1, 0.1]\n",
        ")\n"
      ],
      "metadata": {
        "id": "xzp5QQhS3NvX"
      },
      "execution_count": 12,
      "outputs": []
    },
    {
      "cell_type": "code",
      "source": [
        "print(f'Length of train set: {len(train)}')\n",
        "print(f'Length of val set: {len(val)}')\n",
        "print(f'Length of test set: {len(test)}')\n"
      ],
      "metadata": {
        "colab": {
          "base_uri": "https://localhost:8080/"
        },
        "id": "-KOW1c5O4yU3",
        "outputId": "16a0c09f-3f96-48de-e116-5ae9a9aa8e5f"
      },
      "execution_count": 13,
      "outputs": [
        {
          "output_type": "stream",
          "name": "stdout",
          "text": [
            "Length of train set: 48000\n",
            "Length of val set: 6000\n",
            "Length of test set: 6000\n"
          ]
        }
      ]
    },
    {
      "cell_type": "markdown",
      "source": [
        "# 2. Creating the model - Neural network architecture.\n",
        "\n",
        "Creating a linear layer and right after that a relu layer,\n",
        "\n",
        "Relu will give the neural network the ability to learn problems that are not linear."
      ],
      "metadata": {
        "id": "O-y1fyz95a5L"
      }
    },
    {
      "cell_type": "code",
      "source": [
        "from torch import nn\n",
        "\n",
        "class NeuralNetwork(nn.Module):\n",
        "\n",
        "  def __init__(self):\n",
        "    super().__init__()\n",
        "\n",
        "    self.flatten = nn.Flatten()\n",
        "    self.network = nn.Sequential(\n",
        "        nn.Linear(28*28, 15),\n",
        "        nn.ReLU(),\n",
        "        nn.Linear(15, 10)\n",
        "    )\n",
        "\n",
        "  def forward(self, x):\n",
        "    x = self.flatten(x)\n",
        "    logits = self.network(x)\n",
        "    return logits"
      ],
      "metadata": {
        "id": "a_ffeJy_5DKZ"
      },
      "execution_count": 14,
      "outputs": []
    },
    {
      "cell_type": "markdown",
      "source": [
        "## load model into GPU (CUDA)"
      ],
      "metadata": {
        "id": "FFyawnhI9GGq"
      }
    },
    {
      "cell_type": "code",
      "source": [
        "device = (\n",
        "    \"cuda\" if torch.cuda.is_available()\n",
        "    else \"cpu\"\n",
        ")\n",
        "print(f\"Using {device}\")\n",
        "\n",
        "model = NeuralNetwork().to(device)\n",
        "print(model)"
      ],
      "metadata": {
        "colab": {
          "base_uri": "https://localhost:8080/"
        },
        "id": "A14dELvq8CLS",
        "outputId": "f13f4066-0601-4bce-b924-2f76af36fa1b"
      },
      "execution_count": 15,
      "outputs": [
        {
          "output_type": "stream",
          "name": "stdout",
          "text": [
            "Using cuda\n",
            "NeuralNetwork(\n",
            "  (flatten): Flatten(start_dim=1, end_dim=-1)\n",
            "  (network): Sequential(\n",
            "    (0): Linear(in_features=784, out_features=15, bias=True)\n",
            "    (1): ReLU()\n",
            "    (2): Linear(in_features=15, out_features=10, bias=True)\n",
            "  )\n",
            ")\n"
          ]
        }
      ]
    },
    {
      "cell_type": "code",
      "source": [
        "total_params = sum(p.numel() for p in model.parameters())\n",
        "print(\"Model parameters \", total_params)"
      ],
      "metadata": {
        "colab": {
          "base_uri": "https://localhost:8080/"
        },
        "id": "b_k_wJUo8aFG",
        "outputId": "4c3122e1-0b88-4cf4-85f7-17784afc3d74"
      },
      "execution_count": 16,
      "outputs": [
        {
          "output_type": "stream",
          "name": "stdout",
          "text": [
            "Model parameters  11935\n"
          ]
        }
      ]
    },
    {
      "cell_type": "code",
      "source": [
        "# extract image and category\n",
        "img, lbl = train[200]\n",
        "\n",
        "print(type(img))\n",
        "print(type(lbl))"
      ],
      "metadata": {
        "colab": {
          "base_uri": "https://localhost:8080/"
        },
        "id": "L6a7iM6C9aB_",
        "outputId": "2924591b-30a3-476d-eb27-4df3131b990f"
      },
      "execution_count": 17,
      "outputs": [
        {
          "output_type": "stream",
          "name": "stdout",
          "text": [
            "<class 'torch.Tensor'>\n",
            "<class 'int'>\n"
          ]
        }
      ]
    },
    {
      "cell_type": "markdown",
      "source": [
        "We see that the image is a Tensor while the category is an integer. We need to convert this category to a tensor in order to process it to the model."
      ],
      "metadata": {
        "id": "WYcSje9R97wo"
      }
    },
    {
      "cell_type": "code",
      "source": [
        "lbl = torch.tensor(lbl).reshape(1)\n",
        "print(type(lbl))"
      ],
      "metadata": {
        "colab": {
          "base_uri": "https://localhost:8080/"
        },
        "id": "arqbN2cc92nF",
        "outputId": "b1f334bd-531c-4f9b-914b-333863d520c7"
      },
      "execution_count": 18,
      "outputs": [
        {
          "output_type": "stream",
          "name": "stdout",
          "text": [
            "<class 'torch.Tensor'>\n"
          ]
        }
      ]
    },
    {
      "cell_type": "code",
      "source": [
        "img, lbl = img.to(device), lbl.to(device)"
      ],
      "metadata": {
        "id": "pULiWMdQ-Xsc"
      },
      "execution_count": 19,
      "outputs": []
    },
    {
      "cell_type": "code",
      "source": [
        "logits = model(img)\n",
        "print(logits)"
      ],
      "metadata": {
        "colab": {
          "base_uri": "https://localhost:8080/"
        },
        "id": "Cthc0JLD-rQl",
        "outputId": "47e7d4ef-13ad-4baa-8fd1-bb33b30fbff6"
      },
      "execution_count": 20,
      "outputs": [
        {
          "output_type": "stream",
          "name": "stdout",
          "text": [
            "tensor([[-0.2088, -0.1774,  0.2579,  0.1910,  0.0531, -0.1378, -0.1164, -0.0240,\n",
            "         -0.3448,  0.0655]], device='cuda:0', grad_fn=<AddmmBackward0>)\n"
          ]
        }
      ]
    },
    {
      "cell_type": "markdown",
      "source": [
        "# Initial test forward pass of the model."
      ],
      "metadata": {
        "id": "SiTRnXRLGPXq"
      }
    },
    {
      "cell_type": "code",
      "source": [
        "y_pred = logits.argmax(1)\n",
        "\n",
        "plt.imshow(img.cpu().squeeze(), cmap=\"gray\");\n",
        "\n",
        "print(f'Logits: {logits}')\n",
        "print(f'Output: {y_pred[0]}')\n",
        "print(f'Real label: {lbl[0]}')"
      ],
      "metadata": {
        "colab": {
          "base_uri": "https://localhost:8080/",
          "height": 499
        },
        "id": "_PYAzF5m-aNk",
        "outputId": "10ddbab6-1eb6-41b0-ee8e-e5aeb60ed2a8"
      },
      "execution_count": 21,
      "outputs": [
        {
          "output_type": "stream",
          "name": "stdout",
          "text": [
            "Logits: tensor([[-0.2088, -0.1774,  0.2579,  0.1910,  0.0531, -0.1378, -0.1164, -0.0240,\n",
            "         -0.3448,  0.0655]], device='cuda:0', grad_fn=<AddmmBackward0>)\n",
            "Output: 2\n",
            "Real label: 0\n"
          ]
        },
        {
          "output_type": "display_data",
          "data": {
            "text/plain": [
              "<Figure size 640x480 with 1 Axes>"
            ],
            "image/png": "[encoded data removed]"
          },
          "metadata": {}
        }
      ]
    },
    {
      "cell_type": "markdown",
      "source": [
        "# Setting up the training - load datasets for validation and training."
      ],
      "metadata": {
        "id": "1D8543SoCbhp"
      }
    },
    {
      "cell_type": "code",
      "source": [
        "from torch.utils.data import DataLoader\n",
        "\n",
        "train_loader = DataLoader(\n",
        "    dataset=train,\n",
        "    batch_size=1000,\n",
        "    shuffle=True\n",
        ")\n",
        "\n",
        "val_loader = DataLoader(\n",
        "    dataset=val,\n",
        "    batch_size=1000,\n",
        "    shuffle=False\n",
        ")"
      ],
      "metadata": {
        "id": "UI_6hF-FBnGA"
      },
      "execution_count": 22,
      "outputs": []
    },
    {
      "cell_type": "code",
      "source": [
        "learning_rate = 0.1 # learning rate (0.1)\n",
        "EPOCHS = 10 # Number of iterations for the training."
      ],
      "metadata": {
        "id": "Tdrn17M_CddO"
      },
      "execution_count": 23,
      "outputs": []
    },
    {
      "cell_type": "code",
      "source": [
        "loss_function = nn.CrossEntropyLoss()\n",
        "optimizer = torch.optim.SGD(model.parameters(), lr=learning_rate)"
      ],
      "metadata": {
        "id": "Nyf65qb9BWmB"
      },
      "execution_count": 24,
      "outputs": []
    },
    {
      "cell_type": "code",
      "source": [
        "def train_loop(dataloader, model, loss_fn, optimizer):\n",
        "    train_size = len(dataloader.dataset)\n",
        "    nlotes = len(dataloader)\n",
        "\n",
        "    # set training mode.\n",
        "    model.train()\n",
        "\n",
        "    training_loss, accuracy = 0, 0\n",
        "\n",
        "    for nlote, (X, y) in enumerate(dataloader):\n",
        "\n",
        "        X, y = X.to(device), y.to(device)\n",
        "\n",
        "        # Forward pass.\n",
        "        logits = model(X)\n",
        "\n",
        "        # Backpropagation\n",
        "        loss = loss_fn(logits, y)\n",
        "        loss.backward()\n",
        "\n",
        "        optimizer.step()\n",
        "        optimizer.zero_grad()\n",
        "\n",
        "        # adding the training_loss and accuracy values.\n",
        "        training_loss += loss.item()\n",
        "        accuracy += (logits.argmax(1)==y).type(torch.float).sum().item()\n",
        "\n",
        "        # print the resuls every 10.\n",
        "        if nlote % 10 == 0:\n",
        "            ndata = nlote*EPOCHS\n",
        "\n",
        "            # E imprimir en pantalla\n",
        "            print(f\"\\t Loss : {loss.item():>7f}  [{ndata:>5d}/{train_size:>5d}]\")\n",
        "\n",
        "    training_loss /= nlotes\n",
        "    accuracy /= train_size\n",
        "\n",
        "    print(f'\\t Accuracy/Average loss :')\n",
        "    print(f'\\t\\t Training.: {(100*accuracy):>0.1f}% / {training_loss:>8f}')"
      ],
      "metadata": {
        "id": "vR5lZdboDQ1r"
      },
      "execution_count": 29,
      "outputs": []
    },
    {
      "cell_type": "code",
      "source": [
        "def val_loop(dataloader, model, loss_fn):\n",
        "\n",
        "    val_size = len(dataloader.dataset)\n",
        "    nlotes = len(dataloader)\n",
        "\n",
        "    model.eval()\n",
        "\n",
        "    validation_loss, validation_accuracy = 0, 0\n",
        "\n",
        "    with torch.no_grad():\n",
        "        for X, y in dataloader:\n",
        "            X, y = X.to(device), y.to(device)\n",
        "\n",
        "            # foward passs.\n",
        "            logits = model(X)\n",
        "\n",
        "            validation_loss += loss_fn(logits, y).item()\n",
        "            validation_accuracy += (logits.argmax(1) == y).type(torch.float).sum().item()\n",
        "\n",
        "    validation_loss /= nlotes\n",
        "    validation_accuracy /= val_size\n",
        "\n",
        "    print(f\"\\t\\t validation: {(100*validation_accuracy):>0.1f}% / {validation_loss:>8f} \\n\")"
      ],
      "metadata": {
        "id": "SeUcVkkZFeCV"
      },
      "execution_count": 34,
      "outputs": []
    },
    {
      "cell_type": "code",
      "source": [
        "for t in range(EPOCHS):\n",
        "    print(f\"Iteration {t+1}/{EPOCHS}\\n-------------------------------\")\n",
        "    # Train\n",
        "    train_loop(train_loader, model, loss_function, optimizer)\n",
        "    # Validate\n",
        "    val_loop(val_loader, model, loss_function)\n",
        "print(\"Ready, the model has been trained.\")"
      ],
      "metadata": {
        "colab": {
          "base_uri": "https://localhost:8080/"
        },
        "id": "BDFC9lYyFiTt",
        "outputId": "cb17b746-dc3a-4a3a-f133-80c57e77c4b7"
      },
      "execution_count": 35,
      "outputs": [
        {
          "output_type": "stream",
          "name": "stdout",
          "text": [
            "Iteration 1/10\n",
            "-------------------------------\n",
            "\t Loss : 0.662250  [    0/48000]\n",
            "\t Loss : 0.655419  [  100/48000]\n",
            "\t Loss : 0.580280  [  200/48000]\n",
            "\t Loss : 0.545163  [  300/48000]\n",
            "\t Loss : 0.537800  [  400/48000]\n",
            "\t Accuracy/Average loss :\n",
            "\t\t Training.: 85.3% / 0.575955\n",
            "\t\t validation: 86.7% / 0.525201 \n",
            "\n",
            "Iteration 2/10\n",
            "-------------------------------\n",
            "\t Loss : 0.488619  [    0/48000]\n",
            "\t Loss : 0.479263  [  100/48000]\n",
            "\t Loss : 0.472558  [  200/48000]\n",
            "\t Loss : 0.468731  [  300/48000]\n",
            "\t Loss : 0.502401  [  400/48000]\n",
            "\t Accuracy/Average loss :\n",
            "\t\t Training.: 87.4% / 0.476404\n",
            "\t\t validation: 87.7% / 0.460033 \n",
            "\n",
            "Iteration 3/10\n",
            "-------------------------------\n",
            "\t Loss : 0.478097  [    0/48000]\n",
            "\t Loss : 0.436889  [  100/48000]\n",
            "\t Loss : 0.433473  [  200/48000]\n",
            "\t Loss : 0.390268  [  300/48000]\n",
            "\t Loss : 0.424252  [  400/48000]\n",
            "\t Accuracy/Average loss :\n",
            "\t\t Training.: 88.6% / 0.424865\n",
            "\t\t validation: 88.4% / 0.424081 \n",
            "\n",
            "Iteration 4/10\n",
            "-------------------------------\n",
            "\t Loss : 0.398682  [    0/48000]\n",
            "\t Loss : 0.436102  [  100/48000]\n",
            "\t Loss : 0.406439  [  200/48000]\n",
            "\t Loss : 0.350340  [  300/48000]\n",
            "\t Loss : 0.414369  [  400/48000]\n",
            "\t Accuracy/Average loss :\n",
            "\t\t Training.: 89.2% / 0.393210\n",
            "\t\t validation: 89.0% / 0.401653 \n",
            "\n",
            "Iteration 5/10\n",
            "-------------------------------\n",
            "\t Loss : 0.359184  [    0/48000]\n",
            "\t Loss : 0.402169  [  100/48000]\n",
            "\t Loss : 0.350243  [  200/48000]\n",
            "\t Loss : 0.402375  [  300/48000]\n",
            "\t Loss : 0.347367  [  400/48000]\n",
            "\t Accuracy/Average loss :\n",
            "\t\t Training.: 89.7% / 0.372123\n",
            "\t\t validation: 89.3% / 0.385302 \n",
            "\n",
            "Iteration 6/10\n",
            "-------------------------------\n",
            "\t Loss : 0.375987  [    0/48000]\n",
            "\t Loss : 0.348203  [  100/48000]\n",
            "\t Loss : 0.365256  [  200/48000]\n",
            "\t Loss : 0.343933  [  300/48000]\n",
            "\t Loss : 0.353106  [  400/48000]\n",
            "\t Accuracy/Average loss :\n",
            "\t\t Training.: 90.1% / 0.356274\n",
            "\t\t validation: 89.6% / 0.372511 \n",
            "\n",
            "Iteration 7/10\n",
            "-------------------------------\n",
            "\t Loss : 0.335150  [    0/48000]\n",
            "\t Loss : 0.340517  [  100/48000]\n",
            "\t Loss : 0.317516  [  200/48000]\n",
            "\t Loss : 0.322703  [  300/48000]\n",
            "\t Loss : 0.310022  [  400/48000]\n",
            "\t Accuracy/Average loss :\n",
            "\t\t Training.: 90.3% / 0.344621\n",
            "\t\t validation: 89.7% / 0.363344 \n",
            "\n",
            "Iteration 8/10\n",
            "-------------------------------\n",
            "\t Loss : 0.359111  [    0/48000]\n",
            "\t Loss : 0.331237  [  100/48000]\n",
            "\t Loss : 0.308822  [  200/48000]\n",
            "\t Loss : 0.305551  [  300/48000]\n",
            "\t Loss : 0.329079  [  400/48000]\n",
            "\t Accuracy/Average loss :\n",
            "\t\t Training.: 90.6% / 0.334998\n",
            "\t\t validation: 89.9% / 0.355451 \n",
            "\n",
            "Iteration 9/10\n",
            "-------------------------------\n",
            "\t Loss : 0.287368  [    0/48000]\n",
            "\t Loss : 0.302051  [  100/48000]\n",
            "\t Loss : 0.348477  [  200/48000]\n",
            "\t Loss : 0.361939  [  300/48000]\n",
            "\t Loss : 0.309946  [  400/48000]\n",
            "\t Accuracy/Average loss :\n",
            "\t\t Training.: 90.8% / 0.327189\n",
            "\t\t validation: 90.1% / 0.349181 \n",
            "\n",
            "Iteration 10/10\n",
            "-------------------------------\n",
            "\t Loss : 0.302205  [    0/48000]\n",
            "\t Loss : 0.338214  [  100/48000]\n",
            "\t Loss : 0.303347  [  200/48000]\n",
            "\t Loss : 0.301903  [  300/48000]\n",
            "\t Loss : 0.296691  [  400/48000]\n",
            "\t Accuracy/Average loss :\n",
            "\t\t Training.: 90.9% / 0.320287\n",
            "\t\t validation: 90.2% / 0.344984 \n",
            "\n",
            "Ready, the model has been trained.\n"
          ]
        }
      ]
    },
    {
      "cell_type": "code",
      "source": [
        "def predict(model, img):\n",
        "    logits = model(img)\n",
        "    y_pred = logits.argmax(1).item()\n",
        "\n",
        "    # show original image and its prediction.\n",
        "    plt.imshow(img.cpu().squeeze(), cmap=\"gray\")\n",
        "    plt.title(f'Prediction: {y_pred}');"
      ],
      "metadata": {
        "id": "TIVU8obnI05g"
      },
      "execution_count": 36,
      "outputs": []
    },
    {
      "cell_type": "code",
      "source": [
        "# take an image of the test set.\n",
        "img, lbl = test[1235]\n",
        "lbl = torch.tensor(lbl).reshape(1)\n",
        "img, lbl = img.to(device), lbl.to(device)\n",
        "\n",
        "# Y generar la predicción\n",
        "predict(model, img)"
      ],
      "metadata": {
        "colab": {
          "base_uri": "https://localhost:8080/",
          "height": 452
        },
        "id": "10HcQpPNI1ao",
        "outputId": "cd9ecdfd-c931-47c0-e4c9-224fa50ffbbe"
      },
      "execution_count": 37,
      "outputs": [
        {
          "output_type": "display_data",
          "data": {
            "text/plain": [
              "<Figure size 640x480 with 1 Axes>"
            ],
            "image/png": "[encoded data removed]"
          },
          "metadata": {}
        }
      ]
    }
  ]
}